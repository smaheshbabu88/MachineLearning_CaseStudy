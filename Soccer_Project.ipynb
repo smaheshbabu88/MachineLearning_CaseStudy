{
 "cells": [
  {
   "cell_type": "code",
   "execution_count": 2,
   "metadata": {},
   "outputs": [],
   "source": [
    "\n",
    "import numpy as np\n",
    "import pandas as pd\n",
    "%matplotlib notebook\n",
    "import matplotlib.pyplot as plt\n",
    "import xgboost as xgb\n",
    "from xgboost.sklearn import XGBRegressor\n",
    "from xgboost import plot_importance\n",
    "\n",
    "from sklearn.linear_model import LinearRegression\n",
    "from sklearn.tree import DecisionTreeRegressor\n",
    "from sklearn.ensemble import RandomForestRegressor\n",
    "from sklearn.preprocessing import Imputer, StandardScaler\n",
    "from sklearn.feature_selection import SelectFromModel\n",
    "from sklearn.model_selection import train_test_split, GridSearchCV, ShuffleSplit, RandomizedSearchCV\n",
    "from sklearn.pipeline import make_pipeline\n",
    "\n",
    "import pickle"
   ]
  },
  {
   "cell_type": "code",
   "execution_count": 3,
   "metadata": {},
   "outputs": [],
   "source": [
    "import sqlite3"
   ]
  },
  {
   "cell_type": "code",
   "execution_count": 4,
   "metadata": {},
   "outputs": [],
   "source": [
    "cnx = sqlite3.connect('database.sqlite')"
   ]
  },
  {
   "cell_type": "code",
   "execution_count": 5,
   "metadata": {},
   "outputs": [],
   "source": [
    "dt = pd.read_sql_query(\"SELECT name FROM sqlite_master WHERE type='table'\", cnx)"
   ]
  },
  {
   "cell_type": "code",
   "execution_count": 6,
   "metadata": {},
   "outputs": [
    {
     "name": "stdout",
     "output_type": "stream",
     "text": [
      "                name\n",
      "0    sqlite_sequence\n",
      "1  Player_Attributes\n",
      "2             Player\n",
      "3              Match\n",
      "4             League\n",
      "5            Country\n",
      "6               Team\n",
      "7    Team_Attributes\n"
     ]
    }
   ],
   "source": [
    "print(dt)"
   ]
  },
  {
   "cell_type": "code",
   "execution_count": 7,
   "metadata": {},
   "outputs": [],
   "source": [
    "df = pd.read_sql_query(\"SELECT * FROM Player_Attributes\", cnx)"
   ]
  },
  {
   "cell_type": "code",
   "execution_count": 8,
   "metadata": {},
   "outputs": [
    {
     "data": {
      "text/html": [
       "<div>\n",
       "<style scoped>\n",
       "    .dataframe tbody tr th:only-of-type {\n",
       "        vertical-align: middle;\n",
       "    }\n",
       "\n",
       "    .dataframe tbody tr th {\n",
       "        vertical-align: top;\n",
       "    }\n",
       "\n",
       "    .dataframe thead th {\n",
       "        text-align: right;\n",
       "    }\n",
       "</style>\n",
       "<table border=\"1\" class=\"dataframe\">\n",
       "  <thead>\n",
       "    <tr style=\"text-align: right;\">\n",
       "      <th></th>\n",
       "      <th>id</th>\n",
       "      <th>player_fifa_api_id</th>\n",
       "      <th>player_api_id</th>\n",
       "      <th>date</th>\n",
       "      <th>overall_rating</th>\n",
       "      <th>potential</th>\n",
       "      <th>preferred_foot</th>\n",
       "      <th>attacking_work_rate</th>\n",
       "      <th>defensive_work_rate</th>\n",
       "      <th>crossing</th>\n",
       "      <th>...</th>\n",
       "      <th>vision</th>\n",
       "      <th>penalties</th>\n",
       "      <th>marking</th>\n",
       "      <th>standing_tackle</th>\n",
       "      <th>sliding_tackle</th>\n",
       "      <th>gk_diving</th>\n",
       "      <th>gk_handling</th>\n",
       "      <th>gk_kicking</th>\n",
       "      <th>gk_positioning</th>\n",
       "      <th>gk_reflexes</th>\n",
       "    </tr>\n",
       "  </thead>\n",
       "  <tbody>\n",
       "    <tr>\n",
       "      <th>0</th>\n",
       "      <td>1</td>\n",
       "      <td>218353</td>\n",
       "      <td>505942</td>\n",
       "      <td>2016-02-18 00:00:00</td>\n",
       "      <td>67.0</td>\n",
       "      <td>71.0</td>\n",
       "      <td>right</td>\n",
       "      <td>medium</td>\n",
       "      <td>medium</td>\n",
       "      <td>49.0</td>\n",
       "      <td>...</td>\n",
       "      <td>54.0</td>\n",
       "      <td>48.0</td>\n",
       "      <td>65.0</td>\n",
       "      <td>69.0</td>\n",
       "      <td>69.0</td>\n",
       "      <td>6.0</td>\n",
       "      <td>11.0</td>\n",
       "      <td>10.0</td>\n",
       "      <td>8.0</td>\n",
       "      <td>8.0</td>\n",
       "    </tr>\n",
       "    <tr>\n",
       "      <th>1</th>\n",
       "      <td>2</td>\n",
       "      <td>218353</td>\n",
       "      <td>505942</td>\n",
       "      <td>2015-11-19 00:00:00</td>\n",
       "      <td>67.0</td>\n",
       "      <td>71.0</td>\n",
       "      <td>right</td>\n",
       "      <td>medium</td>\n",
       "      <td>medium</td>\n",
       "      <td>49.0</td>\n",
       "      <td>...</td>\n",
       "      <td>54.0</td>\n",
       "      <td>48.0</td>\n",
       "      <td>65.0</td>\n",
       "      <td>69.0</td>\n",
       "      <td>69.0</td>\n",
       "      <td>6.0</td>\n",
       "      <td>11.0</td>\n",
       "      <td>10.0</td>\n",
       "      <td>8.0</td>\n",
       "      <td>8.0</td>\n",
       "    </tr>\n",
       "    <tr>\n",
       "      <th>2</th>\n",
       "      <td>3</td>\n",
       "      <td>218353</td>\n",
       "      <td>505942</td>\n",
       "      <td>2015-09-21 00:00:00</td>\n",
       "      <td>62.0</td>\n",
       "      <td>66.0</td>\n",
       "      <td>right</td>\n",
       "      <td>medium</td>\n",
       "      <td>medium</td>\n",
       "      <td>49.0</td>\n",
       "      <td>...</td>\n",
       "      <td>54.0</td>\n",
       "      <td>48.0</td>\n",
       "      <td>65.0</td>\n",
       "      <td>66.0</td>\n",
       "      <td>69.0</td>\n",
       "      <td>6.0</td>\n",
       "      <td>11.0</td>\n",
       "      <td>10.0</td>\n",
       "      <td>8.0</td>\n",
       "      <td>8.0</td>\n",
       "    </tr>\n",
       "    <tr>\n",
       "      <th>3</th>\n",
       "      <td>4</td>\n",
       "      <td>218353</td>\n",
       "      <td>505942</td>\n",
       "      <td>2015-03-20 00:00:00</td>\n",
       "      <td>61.0</td>\n",
       "      <td>65.0</td>\n",
       "      <td>right</td>\n",
       "      <td>medium</td>\n",
       "      <td>medium</td>\n",
       "      <td>48.0</td>\n",
       "      <td>...</td>\n",
       "      <td>53.0</td>\n",
       "      <td>47.0</td>\n",
       "      <td>62.0</td>\n",
       "      <td>63.0</td>\n",
       "      <td>66.0</td>\n",
       "      <td>5.0</td>\n",
       "      <td>10.0</td>\n",
       "      <td>9.0</td>\n",
       "      <td>7.0</td>\n",
       "      <td>7.0</td>\n",
       "    </tr>\n",
       "    <tr>\n",
       "      <th>4</th>\n",
       "      <td>5</td>\n",
       "      <td>218353</td>\n",
       "      <td>505942</td>\n",
       "      <td>2007-02-22 00:00:00</td>\n",
       "      <td>61.0</td>\n",
       "      <td>65.0</td>\n",
       "      <td>right</td>\n",
       "      <td>medium</td>\n",
       "      <td>medium</td>\n",
       "      <td>48.0</td>\n",
       "      <td>...</td>\n",
       "      <td>53.0</td>\n",
       "      <td>47.0</td>\n",
       "      <td>62.0</td>\n",
       "      <td>63.0</td>\n",
       "      <td>66.0</td>\n",
       "      <td>5.0</td>\n",
       "      <td>10.0</td>\n",
       "      <td>9.0</td>\n",
       "      <td>7.0</td>\n",
       "      <td>7.0</td>\n",
       "    </tr>\n",
       "  </tbody>\n",
       "</table>\n",
       "<p>5 rows × 42 columns</p>\n",
       "</div>"
      ],
      "text/plain": [
       "   id  player_fifa_api_id  player_api_id                 date  overall_rating  \\\n",
       "0   1              218353         505942  2016-02-18 00:00:00            67.0   \n",
       "1   2              218353         505942  2015-11-19 00:00:00            67.0   \n",
       "2   3              218353         505942  2015-09-21 00:00:00            62.0   \n",
       "3   4              218353         505942  2015-03-20 00:00:00            61.0   \n",
       "4   5              218353         505942  2007-02-22 00:00:00            61.0   \n",
       "\n",
       "   potential preferred_foot attacking_work_rate defensive_work_rate  crossing  \\\n",
       "0       71.0          right              medium              medium      49.0   \n",
       "1       71.0          right              medium              medium      49.0   \n",
       "2       66.0          right              medium              medium      49.0   \n",
       "3       65.0          right              medium              medium      48.0   \n",
       "4       65.0          right              medium              medium      48.0   \n",
       "\n",
       "      ...       vision  penalties  marking  standing_tackle  sliding_tackle  \\\n",
       "0     ...         54.0       48.0     65.0             69.0            69.0   \n",
       "1     ...         54.0       48.0     65.0             69.0            69.0   \n",
       "2     ...         54.0       48.0     65.0             66.0            69.0   \n",
       "3     ...         53.0       47.0     62.0             63.0            66.0   \n",
       "4     ...         53.0       47.0     62.0             63.0            66.0   \n",
       "\n",
       "   gk_diving  gk_handling  gk_kicking  gk_positioning  gk_reflexes  \n",
       "0        6.0         11.0        10.0             8.0          8.0  \n",
       "1        6.0         11.0        10.0             8.0          8.0  \n",
       "2        6.0         11.0        10.0             8.0          8.0  \n",
       "3        5.0         10.0         9.0             7.0          7.0  \n",
       "4        5.0         10.0         9.0             7.0          7.0  \n",
       "\n",
       "[5 rows x 42 columns]"
      ]
     },
     "execution_count": 8,
     "metadata": {},
     "output_type": "execute_result"
    }
   ],
   "source": [
    "df.head()"
   ]
  },
  {
   "cell_type": "markdown",
   "metadata": {},
   "source": [
    "Extracting Target column below"
   ]
  },
  {
   "cell_type": "code",
   "execution_count": 9,
   "metadata": {},
   "outputs": [],
   "source": [
    "target = df.pop('overall_rating')"
   ]
  },
  {
   "cell_type": "code",
   "execution_count": 10,
   "metadata": {},
   "outputs": [
    {
     "data": {
      "text/plain": [
       "(183978, 41)"
      ]
     },
     "execution_count": 10,
     "metadata": {},
     "output_type": "execute_result"
    }
   ],
   "source": [
    "df.shape"
   ]
  },
  {
   "cell_type": "code",
   "execution_count": 11,
   "metadata": {},
   "outputs": [
    {
     "data": {
      "text/plain": [
       "0    67.0\n",
       "1    67.0\n",
       "2    62.0\n",
       "3    61.0\n",
       "4    61.0\n",
       "Name: overall_rating, dtype: float64"
      ]
     },
     "execution_count": 11,
     "metadata": {},
     "output_type": "execute_result"
    }
   ],
   "source": [
    "target.head()"
   ]
  },
  {
   "cell_type": "markdown",
   "metadata": {},
   "source": [
    "### Imputing target funtion :"
   ]
  },
  {
   "cell_type": "code",
   "execution_count": 12,
   "metadata": {},
   "outputs": [
    {
     "data": {
      "text/plain": [
       "836"
      ]
     },
     "execution_count": 12,
     "metadata": {},
     "output_type": "execute_result"
    }
   ],
   "source": [
    "target.isnull().values.sum()"
   ]
  },
  {
   "cell_type": "markdown",
   "metadata": {},
   "source": [
    "there are 836 missing value present in target function."
   ]
  },
  {
   "cell_type": "code",
   "execution_count": 13,
   "metadata": {},
   "outputs": [
    {
     "data": {
      "text/plain": [
       "count    183142.000000\n",
       "mean         68.600015\n",
       "std           7.041139\n",
       "min          33.000000\n",
       "25%          64.000000\n",
       "50%          69.000000\n",
       "75%          73.000000\n",
       "max          94.000000\n",
       "Name: overall_rating, dtype: float64"
      ]
     },
     "execution_count": 13,
     "metadata": {},
     "output_type": "execute_result"
    }
   ],
   "source": [
    "target.describe()"
   ]
  },
  {
   "cell_type": "code",
   "execution_count": 44,
   "metadata": {},
   "outputs": [
    {
     "data": {
      "application/javascript": [
       "/* Put everything inside the global mpl namespace */\n",
       "window.mpl = {};\n",
       "\n",
       "\n",
       "mpl.get_websocket_type = function() {\n",
       "    if (typeof(WebSocket) !== 'undefined') {\n",
       "        return WebSocket;\n",
       "    } else if (typeof(MozWebSocket) !== 'undefined') {\n",
       "        return MozWebSocket;\n",
       "    } else {\n",
       "        alert('Your browser does not have WebSocket support.' +\n",
       "              'Please try Chrome, Safari or Firefox ≥ 6. ' +\n",
       "              'Firefox 4 and 5 are also supported but you ' +\n",
       "              'have to enable WebSockets in about:config.');\n",
       "    };\n",
       "}\n",
       "\n",
       "mpl.figure = function(figure_id, websocket, ondownload, parent_element) {\n",
       "    this.id = figure_id;\n",
       "\n",
       "    this.ws = websocket;\n",
       "\n",
       "    this.supports_binary = (this.ws.binaryType != undefined);\n",
       "\n",
       "    if (!this.supports_binary) {\n",
       "        var warnings = document.getElementById(\"mpl-warnings\");\n",
       "        if (warnings) {\n",
       "            warnings.style.display = 'block';\n",
       "            warnings.textContent = (\n",
       "                \"This browser does not support binary websocket messages. \" +\n",
       "                    \"Performance may be slow.\");\n",
       "        }\n",
       "    }\n",
       "\n",
       "    this.imageObj = new Image();\n",
       "\n",
       "    this.context = undefined;\n",
       "    this.message = undefined;\n",
       "    this.canvas = undefined;\n",
       "    this.rubberband_canvas = undefined;\n",
       "    this.rubberband_context = undefined;\n",
       "    this.format_dropdown = undefined;\n",
       "\n",
       "    this.image_mode = 'full';\n",
       "\n",
       "    this.root = $('<div/>');\n",
       "    this._root_extra_style(this.root)\n",
       "    this.root.attr('style', 'display: inline-block');\n",
       "\n",
       "    $(parent_element).append(this.root);\n",
       "\n",
       "    this._init_header(this);\n",
       "    this._init_canvas(this);\n",
       "    this._init_toolbar(this);\n",
       "\n",
       "    var fig = this;\n",
       "\n",
       "    this.waiting = false;\n",
       "\n",
       "    this.ws.onopen =  function () {\n",
       "            fig.send_message(\"supports_binary\", {value: fig.supports_binary});\n",
       "            fig.send_message(\"send_image_mode\", {});\n",
       "            if (mpl.ratio != 1) {\n",
       "                fig.send_message(\"set_dpi_ratio\", {'dpi_ratio': mpl.ratio});\n",
       "            }\n",
       "            fig.send_message(\"refresh\", {});\n",
       "        }\n",
       "\n",
       "    this.imageObj.onload = function() {\n",
       "            if (fig.image_mode == 'full') {\n",
       "                // Full images could contain transparency (where diff images\n",
       "                // almost always do), so we need to clear the canvas so that\n",
       "                // there is no ghosting.\n",
       "                fig.context.clearRect(0, 0, fig.canvas.width, fig.canvas.height);\n",
       "            }\n",
       "            fig.context.drawImage(fig.imageObj, 0, 0);\n",
       "        };\n",
       "\n",
       "    this.imageObj.onunload = function() {\n",
       "        fig.ws.close();\n",
       "    }\n",
       "\n",
       "    this.ws.onmessage = this._make_on_message_function(this);\n",
       "\n",
       "    this.ondownload = ondownload;\n",
       "}\n",
       "\n",
       "mpl.figure.prototype._init_header = function() {\n",
       "    var titlebar = $(\n",
       "        '<div class=\"ui-dialog-titlebar ui-widget-header ui-corner-all ' +\n",
       "        'ui-helper-clearfix\"/>');\n",
       "    var titletext = $(\n",
       "        '<div class=\"ui-dialog-title\" style=\"width: 100%; ' +\n",
       "        'text-align: center; padding: 3px;\"/>');\n",
       "    titlebar.append(titletext)\n",
       "    this.root.append(titlebar);\n",
       "    this.header = titletext[0];\n",
       "}\n",
       "\n",
       "\n",
       "\n",
       "mpl.figure.prototype._canvas_extra_style = function(canvas_div) {\n",
       "\n",
       "}\n",
       "\n",
       "\n",
       "mpl.figure.prototype._root_extra_style = function(canvas_div) {\n",
       "\n",
       "}\n",
       "\n",
       "mpl.figure.prototype._init_canvas = function() {\n",
       "    var fig = this;\n",
       "\n",
       "    var canvas_div = $('<div/>');\n",
       "\n",
       "    canvas_div.attr('style', 'position: relative; clear: both; outline: 0');\n",
       "\n",
       "    function canvas_keyboard_event(event) {\n",
       "        return fig.key_event(event, event['data']);\n",
       "    }\n",
       "\n",
       "    canvas_div.keydown('key_press', canvas_keyboard_event);\n",
       "    canvas_div.keyup('key_release', canvas_keyboard_event);\n",
       "    this.canvas_div = canvas_div\n",
       "    this._canvas_extra_style(canvas_div)\n",
       "    this.root.append(canvas_div);\n",
       "\n",
       "    var canvas = $('<canvas/>');\n",
       "    canvas.addClass('mpl-canvas');\n",
       "    canvas.attr('style', \"left: 0; top: 0; z-index: 0; outline: 0\")\n",
       "\n",
       "    this.canvas = canvas[0];\n",
       "    this.context = canvas[0].getContext(\"2d\");\n",
       "\n",
       "    var backingStore = this.context.backingStorePixelRatio ||\n",
       "\tthis.context.webkitBackingStorePixelRatio ||\n",
       "\tthis.context.mozBackingStorePixelRatio ||\n",
       "\tthis.context.msBackingStorePixelRatio ||\n",
       "\tthis.context.oBackingStorePixelRatio ||\n",
       "\tthis.context.backingStorePixelRatio || 1;\n",
       "\n",
       "    mpl.ratio = (window.devicePixelRatio || 1) / backingStore;\n",
       "\n",
       "    var rubberband = $('<canvas/>');\n",
       "    rubberband.attr('style', \"position: absolute; left: 0; top: 0; z-index: 1;\")\n",
       "\n",
       "    var pass_mouse_events = true;\n",
       "\n",
       "    canvas_div.resizable({\n",
       "        start: function(event, ui) {\n",
       "            pass_mouse_events = false;\n",
       "        },\n",
       "        resize: function(event, ui) {\n",
       "            fig.request_resize(ui.size.width, ui.size.height);\n",
       "        },\n",
       "        stop: function(event, ui) {\n",
       "            pass_mouse_events = true;\n",
       "            fig.request_resize(ui.size.width, ui.size.height);\n",
       "        },\n",
       "    });\n",
       "\n",
       "    function mouse_event_fn(event) {\n",
       "        if (pass_mouse_events)\n",
       "            return fig.mouse_event(event, event['data']);\n",
       "    }\n",
       "\n",
       "    rubberband.mousedown('button_press', mouse_event_fn);\n",
       "    rubberband.mouseup('button_release', mouse_event_fn);\n",
       "    // Throttle sequential mouse events to 1 every 20ms.\n",
       "    rubberband.mousemove('motion_notify', mouse_event_fn);\n",
       "\n",
       "    rubberband.mouseenter('figure_enter', mouse_event_fn);\n",
       "    rubberband.mouseleave('figure_leave', mouse_event_fn);\n",
       "\n",
       "    canvas_div.on(\"wheel\", function (event) {\n",
       "        event = event.originalEvent;\n",
       "        event['data'] = 'scroll'\n",
       "        if (event.deltaY < 0) {\n",
       "            event.step = 1;\n",
       "        } else {\n",
       "            event.step = -1;\n",
       "        }\n",
       "        mouse_event_fn(event);\n",
       "    });\n",
       "\n",
       "    canvas_div.append(canvas);\n",
       "    canvas_div.append(rubberband);\n",
       "\n",
       "    this.rubberband = rubberband;\n",
       "    this.rubberband_canvas = rubberband[0];\n",
       "    this.rubberband_context = rubberband[0].getContext(\"2d\");\n",
       "    this.rubberband_context.strokeStyle = \"#000000\";\n",
       "\n",
       "    this._resize_canvas = function(width, height) {\n",
       "        // Keep the size of the canvas, canvas container, and rubber band\n",
       "        // canvas in synch.\n",
       "        canvas_div.css('width', width)\n",
       "        canvas_div.css('height', height)\n",
       "\n",
       "        canvas.attr('width', width * mpl.ratio);\n",
       "        canvas.attr('height', height * mpl.ratio);\n",
       "        canvas.attr('style', 'width: ' + width + 'px; height: ' + height + 'px;');\n",
       "\n",
       "        rubberband.attr('width', width);\n",
       "        rubberband.attr('height', height);\n",
       "    }\n",
       "\n",
       "    // Set the figure to an initial 600x600px, this will subsequently be updated\n",
       "    // upon first draw.\n",
       "    this._resize_canvas(600, 600);\n",
       "\n",
       "    // Disable right mouse context menu.\n",
       "    $(this.rubberband_canvas).bind(\"contextmenu\",function(e){\n",
       "        return false;\n",
       "    });\n",
       "\n",
       "    function set_focus () {\n",
       "        canvas.focus();\n",
       "        canvas_div.focus();\n",
       "    }\n",
       "\n",
       "    window.setTimeout(set_focus, 100);\n",
       "}\n",
       "\n",
       "mpl.figure.prototype._init_toolbar = function() {\n",
       "    var fig = this;\n",
       "\n",
       "    var nav_element = $('<div/>')\n",
       "    nav_element.attr('style', 'width: 100%');\n",
       "    this.root.append(nav_element);\n",
       "\n",
       "    // Define a callback function for later on.\n",
       "    function toolbar_event(event) {\n",
       "        return fig.toolbar_button_onclick(event['data']);\n",
       "    }\n",
       "    function toolbar_mouse_event(event) {\n",
       "        return fig.toolbar_button_onmouseover(event['data']);\n",
       "    }\n",
       "\n",
       "    for(var toolbar_ind in mpl.toolbar_items) {\n",
       "        var name = mpl.toolbar_items[toolbar_ind][0];\n",
       "        var tooltip = mpl.toolbar_items[toolbar_ind][1];\n",
       "        var image = mpl.toolbar_items[toolbar_ind][2];\n",
       "        var method_name = mpl.toolbar_items[toolbar_ind][3];\n",
       "\n",
       "        if (!name) {\n",
       "            // put a spacer in here.\n",
       "            continue;\n",
       "        }\n",
       "        var button = $('<button/>');\n",
       "        button.addClass('ui-button ui-widget ui-state-default ui-corner-all ' +\n",
       "                        'ui-button-icon-only');\n",
       "        button.attr('role', 'button');\n",
       "        button.attr('aria-disabled', 'false');\n",
       "        button.click(method_name, toolbar_event);\n",
       "        button.mouseover(tooltip, toolbar_mouse_event);\n",
       "\n",
       "        var icon_img = $('<span/>');\n",
       "        icon_img.addClass('ui-button-icon-primary ui-icon');\n",
       "        icon_img.addClass(image);\n",
       "        icon_img.addClass('ui-corner-all');\n",
       "\n",
       "        var tooltip_span = $('<span/>');\n",
       "        tooltip_span.addClass('ui-button-text');\n",
       "        tooltip_span.html(tooltip);\n",
       "\n",
       "        button.append(icon_img);\n",
       "        button.append(tooltip_span);\n",
       "\n",
       "        nav_element.append(button);\n",
       "    }\n",
       "\n",
       "    var fmt_picker_span = $('<span/>');\n",
       "\n",
       "    var fmt_picker = $('<select/>');\n",
       "    fmt_picker.addClass('mpl-toolbar-option ui-widget ui-widget-content');\n",
       "    fmt_picker_span.append(fmt_picker);\n",
       "    nav_element.append(fmt_picker_span);\n",
       "    this.format_dropdown = fmt_picker[0];\n",
       "\n",
       "    for (var ind in mpl.extensions) {\n",
       "        var fmt = mpl.extensions[ind];\n",
       "        var option = $(\n",
       "            '<option/>', {selected: fmt === mpl.default_extension}).html(fmt);\n",
       "        fmt_picker.append(option)\n",
       "    }\n",
       "\n",
       "    // Add hover states to the ui-buttons\n",
       "    $( \".ui-button\" ).hover(\n",
       "        function() { $(this).addClass(\"ui-state-hover\");},\n",
       "        function() { $(this).removeClass(\"ui-state-hover\");}\n",
       "    );\n",
       "\n",
       "    var status_bar = $('<span class=\"mpl-message\"/>');\n",
       "    nav_element.append(status_bar);\n",
       "    this.message = status_bar[0];\n",
       "}\n",
       "\n",
       "mpl.figure.prototype.request_resize = function(x_pixels, y_pixels) {\n",
       "    // Request matplotlib to resize the figure. Matplotlib will then trigger a resize in the client,\n",
       "    // which will in turn request a refresh of the image.\n",
       "    this.send_message('resize', {'width': x_pixels, 'height': y_pixels});\n",
       "}\n",
       "\n",
       "mpl.figure.prototype.send_message = function(type, properties) {\n",
       "    properties['type'] = type;\n",
       "    properties['figure_id'] = this.id;\n",
       "    this.ws.send(JSON.stringify(properties));\n",
       "}\n",
       "\n",
       "mpl.figure.prototype.send_draw_message = function() {\n",
       "    if (!this.waiting) {\n",
       "        this.waiting = true;\n",
       "        this.ws.send(JSON.stringify({type: \"draw\", figure_id: this.id}));\n",
       "    }\n",
       "}\n",
       "\n",
       "\n",
       "mpl.figure.prototype.handle_save = function(fig, msg) {\n",
       "    var format_dropdown = fig.format_dropdown;\n",
       "    var format = format_dropdown.options[format_dropdown.selectedIndex].value;\n",
       "    fig.ondownload(fig, format);\n",
       "}\n",
       "\n",
       "\n",
       "mpl.figure.prototype.handle_resize = function(fig, msg) {\n",
       "    var size = msg['size'];\n",
       "    if (size[0] != fig.canvas.width || size[1] != fig.canvas.height) {\n",
       "        fig._resize_canvas(size[0], size[1]);\n",
       "        fig.send_message(\"refresh\", {});\n",
       "    };\n",
       "}\n",
       "\n",
       "mpl.figure.prototype.handle_rubberband = function(fig, msg) {\n",
       "    var x0 = msg['x0'] / mpl.ratio;\n",
       "    var y0 = (fig.canvas.height - msg['y0']) / mpl.ratio;\n",
       "    var x1 = msg['x1'] / mpl.ratio;\n",
       "    var y1 = (fig.canvas.height - msg['y1']) / mpl.ratio;\n",
       "    x0 = Math.floor(x0) + 0.5;\n",
       "    y0 = Math.floor(y0) + 0.5;\n",
       "    x1 = Math.floor(x1) + 0.5;\n",
       "    y1 = Math.floor(y1) + 0.5;\n",
       "    var min_x = Math.min(x0, x1);\n",
       "    var min_y = Math.min(y0, y1);\n",
       "    var width = Math.abs(x1 - x0);\n",
       "    var height = Math.abs(y1 - y0);\n",
       "\n",
       "    fig.rubberband_context.clearRect(\n",
       "        0, 0, fig.canvas.width, fig.canvas.height);\n",
       "\n",
       "    fig.rubberband_context.strokeRect(min_x, min_y, width, height);\n",
       "}\n",
       "\n",
       "mpl.figure.prototype.handle_figure_label = function(fig, msg) {\n",
       "    // Updates the figure title.\n",
       "    fig.header.textContent = msg['label'];\n",
       "}\n",
       "\n",
       "mpl.figure.prototype.handle_cursor = function(fig, msg) {\n",
       "    var cursor = msg['cursor'];\n",
       "    switch(cursor)\n",
       "    {\n",
       "    case 0:\n",
       "        cursor = 'pointer';\n",
       "        break;\n",
       "    case 1:\n",
       "        cursor = 'default';\n",
       "        break;\n",
       "    case 2:\n",
       "        cursor = 'crosshair';\n",
       "        break;\n",
       "    case 3:\n",
       "        cursor = 'move';\n",
       "        break;\n",
       "    }\n",
       "    fig.rubberband_canvas.style.cursor = cursor;\n",
       "}\n",
       "\n",
       "mpl.figure.prototype.handle_message = function(fig, msg) {\n",
       "    fig.message.textContent = msg['message'];\n",
       "}\n",
       "\n",
       "mpl.figure.prototype.handle_draw = function(fig, msg) {\n",
       "    // Request the server to send over a new figure.\n",
       "    fig.send_draw_message();\n",
       "}\n",
       "\n",
       "mpl.figure.prototype.handle_image_mode = function(fig, msg) {\n",
       "    fig.image_mode = msg['mode'];\n",
       "}\n",
       "\n",
       "mpl.figure.prototype.updated_canvas_event = function() {\n",
       "    // Called whenever the canvas gets updated.\n",
       "    this.send_message(\"ack\", {});\n",
       "}\n",
       "\n",
       "// A function to construct a web socket function for onmessage handling.\n",
       "// Called in the figure constructor.\n",
       "mpl.figure.prototype._make_on_message_function = function(fig) {\n",
       "    return function socket_on_message(evt) {\n",
       "        if (evt.data instanceof Blob) {\n",
       "            /* FIXME: We get \"Resource interpreted as Image but\n",
       "             * transferred with MIME type text/plain:\" errors on\n",
       "             * Chrome.  But how to set the MIME type?  It doesn't seem\n",
       "             * to be part of the websocket stream */\n",
       "            evt.data.type = \"image/png\";\n",
       "\n",
       "            /* Free the memory for the previous frames */\n",
       "            if (fig.imageObj.src) {\n",
       "                (window.URL || window.webkitURL).revokeObjectURL(\n",
       "                    fig.imageObj.src);\n",
       "            }\n",
       "\n",
       "            fig.imageObj.src = (window.URL || window.webkitURL).createObjectURL(\n",
       "                evt.data);\n",
       "            fig.updated_canvas_event();\n",
       "            fig.waiting = false;\n",
       "            return;\n",
       "        }\n",
       "        else if (typeof evt.data === 'string' && evt.data.slice(0, 21) == \"data:image/png;base64\") {\n",
       "            fig.imageObj.src = evt.data;\n",
       "            fig.updated_canvas_event();\n",
       "            fig.waiting = false;\n",
       "            return;\n",
       "        }\n",
       "\n",
       "        var msg = JSON.parse(evt.data);\n",
       "        var msg_type = msg['type'];\n",
       "\n",
       "        // Call the  \"handle_{type}\" callback, which takes\n",
       "        // the figure and JSON message as its only arguments.\n",
       "        try {\n",
       "            var callback = fig[\"handle_\" + msg_type];\n",
       "        } catch (e) {\n",
       "            console.log(\"No handler for the '\" + msg_type + \"' message type: \", msg);\n",
       "            return;\n",
       "        }\n",
       "\n",
       "        if (callback) {\n",
       "            try {\n",
       "                // console.log(\"Handling '\" + msg_type + \"' message: \", msg);\n",
       "                callback(fig, msg);\n",
       "            } catch (e) {\n",
       "                console.log(\"Exception inside the 'handler_\" + msg_type + \"' callback:\", e, e.stack, msg);\n",
       "            }\n",
       "        }\n",
       "    };\n",
       "}\n",
       "\n",
       "// from http://stackoverflow.com/questions/1114465/getting-mouse-location-in-canvas\n",
       "mpl.findpos = function(e) {\n",
       "    //this section is from http://www.quirksmode.org/js/events_properties.html\n",
       "    var targ;\n",
       "    if (!e)\n",
       "        e = window.event;\n",
       "    if (e.target)\n",
       "        targ = e.target;\n",
       "    else if (e.srcElement)\n",
       "        targ = e.srcElement;\n",
       "    if (targ.nodeType == 3) // defeat Safari bug\n",
       "        targ = targ.parentNode;\n",
       "\n",
       "    // jQuery normalizes the pageX and pageY\n",
       "    // pageX,Y are the mouse positions relative to the document\n",
       "    // offset() returns the position of the element relative to the document\n",
       "    var x = e.pageX - $(targ).offset().left;\n",
       "    var y = e.pageY - $(targ).offset().top;\n",
       "\n",
       "    return {\"x\": x, \"y\": y};\n",
       "};\n",
       "\n",
       "/*\n",
       " * return a copy of an object with only non-object keys\n",
       " * we need this to avoid circular references\n",
       " * http://stackoverflow.com/a/24161582/3208463\n",
       " */\n",
       "function simpleKeys (original) {\n",
       "  return Object.keys(original).reduce(function (obj, key) {\n",
       "    if (typeof original[key] !== 'object')\n",
       "        obj[key] = original[key]\n",
       "    return obj;\n",
       "  }, {});\n",
       "}\n",
       "\n",
       "mpl.figure.prototype.mouse_event = function(event, name) {\n",
       "    var canvas_pos = mpl.findpos(event)\n",
       "\n",
       "    if (name === 'button_press')\n",
       "    {\n",
       "        this.canvas.focus();\n",
       "        this.canvas_div.focus();\n",
       "    }\n",
       "\n",
       "    var x = canvas_pos.x * mpl.ratio;\n",
       "    var y = canvas_pos.y * mpl.ratio;\n",
       "\n",
       "    this.send_message(name, {x: x, y: y, button: event.button,\n",
       "                             step: event.step,\n",
       "                             guiEvent: simpleKeys(event)});\n",
       "\n",
       "    /* This prevents the web browser from automatically changing to\n",
       "     * the text insertion cursor when the button is pressed.  We want\n",
       "     * to control all of the cursor setting manually through the\n",
       "     * 'cursor' event from matplotlib */\n",
       "    event.preventDefault();\n",
       "    return false;\n",
       "}\n",
       "\n",
       "mpl.figure.prototype._key_event_extra = function(event, name) {\n",
       "    // Handle any extra behaviour associated with a key event\n",
       "}\n",
       "\n",
       "mpl.figure.prototype.key_event = function(event, name) {\n",
       "\n",
       "    // Prevent repeat events\n",
       "    if (name == 'key_press')\n",
       "    {\n",
       "        if (event.which === this._key)\n",
       "            return;\n",
       "        else\n",
       "            this._key = event.which;\n",
       "    }\n",
       "    if (name == 'key_release')\n",
       "        this._key = null;\n",
       "\n",
       "    var value = '';\n",
       "    if (event.ctrlKey && event.which != 17)\n",
       "        value += \"ctrl+\";\n",
       "    if (event.altKey && event.which != 18)\n",
       "        value += \"alt+\";\n",
       "    if (event.shiftKey && event.which != 16)\n",
       "        value += \"shift+\";\n",
       "\n",
       "    value += 'k';\n",
       "    value += event.which.toString();\n",
       "\n",
       "    this._key_event_extra(event, name);\n",
       "\n",
       "    this.send_message(name, {key: value,\n",
       "                             guiEvent: simpleKeys(event)});\n",
       "    return false;\n",
       "}\n",
       "\n",
       "mpl.figure.prototype.toolbar_button_onclick = function(name) {\n",
       "    if (name == 'download') {\n",
       "        this.handle_save(this, null);\n",
       "    } else {\n",
       "        this.send_message(\"toolbar_button\", {name: name});\n",
       "    }\n",
       "};\n",
       "\n",
       "mpl.figure.prototype.toolbar_button_onmouseover = function(tooltip) {\n",
       "    this.message.textContent = tooltip;\n",
       "};\n",
       "mpl.toolbar_items = [[\"Home\", \"Reset original view\", \"fa fa-home icon-home\", \"home\"], [\"Back\", \"Back to  previous view\", \"fa fa-arrow-left icon-arrow-left\", \"back\"], [\"Forward\", \"Forward to next view\", \"fa fa-arrow-right icon-arrow-right\", \"forward\"], [\"\", \"\", \"\", \"\"], [\"Pan\", \"Pan axes with left mouse, zoom with right\", \"fa fa-arrows icon-move\", \"pan\"], [\"Zoom\", \"Zoom to rectangle\", \"fa fa-square-o icon-check-empty\", \"zoom\"], [\"\", \"\", \"\", \"\"], [\"Download\", \"Download plot\", \"fa fa-floppy-o icon-save\", \"download\"]];\n",
       "\n",
       "mpl.extensions = [\"eps\", \"jpeg\", \"pdf\", \"png\", \"ps\", \"raw\", \"svg\", \"tif\"];\n",
       "\n",
       "mpl.default_extension = \"png\";var comm_websocket_adapter = function(comm) {\n",
       "    // Create a \"websocket\"-like object which calls the given IPython comm\n",
       "    // object with the appropriate methods. Currently this is a non binary\n",
       "    // socket, so there is still some room for performance tuning.\n",
       "    var ws = {};\n",
       "\n",
       "    ws.close = function() {\n",
       "        comm.close()\n",
       "    };\n",
       "    ws.send = function(m) {\n",
       "        //console.log('sending', m);\n",
       "        comm.send(m);\n",
       "    };\n",
       "    // Register the callback with on_msg.\n",
       "    comm.on_msg(function(msg) {\n",
       "        //console.log('receiving', msg['content']['data'], msg);\n",
       "        // Pass the mpl event to the overriden (by mpl) onmessage function.\n",
       "        ws.onmessage(msg['content']['data'])\n",
       "    });\n",
       "    return ws;\n",
       "}\n",
       "\n",
       "mpl.mpl_figure_comm = function(comm, msg) {\n",
       "    // This is the function which gets called when the mpl process\n",
       "    // starts-up an IPython Comm through the \"matplotlib\" channel.\n",
       "\n",
       "    var id = msg.content.data.id;\n",
       "    // Get hold of the div created by the display call when the Comm\n",
       "    // socket was opened in Python.\n",
       "    var element = $(\"#\" + id);\n",
       "    var ws_proxy = comm_websocket_adapter(comm)\n",
       "\n",
       "    function ondownload(figure, format) {\n",
       "        window.open(figure.imageObj.src);\n",
       "    }\n",
       "\n",
       "    var fig = new mpl.figure(id, ws_proxy,\n",
       "                           ondownload,\n",
       "                           element.get(0));\n",
       "\n",
       "    // Call onopen now - mpl needs it, as it is assuming we've passed it a real\n",
       "    // web socket which is closed, not our websocket->open comm proxy.\n",
       "    ws_proxy.onopen();\n",
       "\n",
       "    fig.parent_element = element.get(0);\n",
       "    fig.cell_info = mpl.find_output_cell(\"<div id='\" + id + \"'></div>\");\n",
       "    if (!fig.cell_info) {\n",
       "        console.error(\"Failed to find cell for figure\", id, fig);\n",
       "        return;\n",
       "    }\n",
       "\n",
       "    var output_index = fig.cell_info[2]\n",
       "    var cell = fig.cell_info[0];\n",
       "\n",
       "};\n",
       "\n",
       "mpl.figure.prototype.handle_close = function(fig, msg) {\n",
       "    var width = fig.canvas.width/mpl.ratio\n",
       "    fig.root.unbind('remove')\n",
       "\n",
       "    // Update the output cell to use the data from the current canvas.\n",
       "    fig.push_to_output();\n",
       "    var dataURL = fig.canvas.toDataURL();\n",
       "    // Re-enable the keyboard manager in IPython - without this line, in FF,\n",
       "    // the notebook keyboard shortcuts fail.\n",
       "    IPython.keyboard_manager.enable()\n",
       "    $(fig.parent_element).html('<img src=\"' + dataURL + '\" width=\"' + width + '\">');\n",
       "    fig.close_ws(fig, msg);\n",
       "}\n",
       "\n",
       "mpl.figure.prototype.close_ws = function(fig, msg){\n",
       "    fig.send_message('closing', msg);\n",
       "    // fig.ws.close()\n",
       "}\n",
       "\n",
       "mpl.figure.prototype.push_to_output = function(remove_interactive) {\n",
       "    // Turn the data on the canvas into data in the output cell.\n",
       "    var width = this.canvas.width/mpl.ratio\n",
       "    var dataURL = this.canvas.toDataURL();\n",
       "    this.cell_info[1]['text/html'] = '<img src=\"' + dataURL + '\" width=\"' + width + '\">';\n",
       "}\n",
       "\n",
       "mpl.figure.prototype.updated_canvas_event = function() {\n",
       "    // Tell IPython that the notebook contents must change.\n",
       "    IPython.notebook.set_dirty(true);\n",
       "    this.send_message(\"ack\", {});\n",
       "    var fig = this;\n",
       "    // Wait a second, then push the new image to the DOM so\n",
       "    // that it is saved nicely (might be nice to debounce this).\n",
       "    setTimeout(function () { fig.push_to_output() }, 1000);\n",
       "}\n",
       "\n",
       "mpl.figure.prototype._init_toolbar = function() {\n",
       "    var fig = this;\n",
       "\n",
       "    var nav_element = $('<div/>')\n",
       "    nav_element.attr('style', 'width: 100%');\n",
       "    this.root.append(nav_element);\n",
       "\n",
       "    // Define a callback function for later on.\n",
       "    function toolbar_event(event) {\n",
       "        return fig.toolbar_button_onclick(event['data']);\n",
       "    }\n",
       "    function toolbar_mouse_event(event) {\n",
       "        return fig.toolbar_button_onmouseover(event['data']);\n",
       "    }\n",
       "\n",
       "    for(var toolbar_ind in mpl.toolbar_items){\n",
       "        var name = mpl.toolbar_items[toolbar_ind][0];\n",
       "        var tooltip = mpl.toolbar_items[toolbar_ind][1];\n",
       "        var image = mpl.toolbar_items[toolbar_ind][2];\n",
       "        var method_name = mpl.toolbar_items[toolbar_ind][3];\n",
       "\n",
       "        if (!name) { continue; };\n",
       "\n",
       "        var button = $('<button class=\"btn btn-default\" href=\"#\" title=\"' + name + '\"><i class=\"fa ' + image + ' fa-lg\"></i></button>');\n",
       "        button.click(method_name, toolbar_event);\n",
       "        button.mouseover(tooltip, toolbar_mouse_event);\n",
       "        nav_element.append(button);\n",
       "    }\n",
       "\n",
       "    // Add the status bar.\n",
       "    var status_bar = $('<span class=\"mpl-message\" style=\"text-align:right; float: right;\"/>');\n",
       "    nav_element.append(status_bar);\n",
       "    this.message = status_bar[0];\n",
       "\n",
       "    // Add the close button to the window.\n",
       "    var buttongrp = $('<div class=\"btn-group inline pull-right\"></div>');\n",
       "    var button = $('<button class=\"btn btn-mini btn-primary\" href=\"#\" title=\"Stop Interaction\"><i class=\"fa fa-power-off icon-remove icon-large\"></i></button>');\n",
       "    button.click(function (evt) { fig.handle_close(fig, {}); } );\n",
       "    button.mouseover('Stop Interaction', toolbar_mouse_event);\n",
       "    buttongrp.append(button);\n",
       "    var titlebar = this.root.find($('.ui-dialog-titlebar'));\n",
       "    titlebar.prepend(buttongrp);\n",
       "}\n",
       "\n",
       "mpl.figure.prototype._root_extra_style = function(el){\n",
       "    var fig = this\n",
       "    el.on(\"remove\", function(){\n",
       "\tfig.close_ws(fig, {});\n",
       "    });\n",
       "}\n",
       "\n",
       "mpl.figure.prototype._canvas_extra_style = function(el){\n",
       "    // this is important to make the div 'focusable\n",
       "    el.attr('tabindex', 0)\n",
       "    // reach out to IPython and tell the keyboard manager to turn it's self\n",
       "    // off when our div gets focus\n",
       "\n",
       "    // location in version 3\n",
       "    if (IPython.notebook.keyboard_manager) {\n",
       "        IPython.notebook.keyboard_manager.register_events(el);\n",
       "    }\n",
       "    else {\n",
       "        // location in version 2\n",
       "        IPython.keyboard_manager.register_events(el);\n",
       "    }\n",
       "\n",
       "}\n",
       "\n",
       "mpl.figure.prototype._key_event_extra = function(event, name) {\n",
       "    var manager = IPython.notebook.keyboard_manager;\n",
       "    if (!manager)\n",
       "        manager = IPython.keyboard_manager;\n",
       "\n",
       "    // Check for shift+enter\n",
       "    if (event.shiftKey && event.which == 13) {\n",
       "        this.canvas_div.blur();\n",
       "        event.shiftKey = false;\n",
       "        // Send a \"J\" for go to next cell\n",
       "        event.which = 74;\n",
       "        event.keyCode = 74;\n",
       "        manager.command_mode();\n",
       "        manager.handle_keydown(event);\n",
       "    }\n",
       "}\n",
       "\n",
       "mpl.figure.prototype.handle_save = function(fig, msg) {\n",
       "    fig.ondownload(fig, null);\n",
       "}\n",
       "\n",
       "\n",
       "mpl.find_output_cell = function(html_output) {\n",
       "    // Return the cell and output element which can be found *uniquely* in the notebook.\n",
       "    // Note - this is a bit hacky, but it is done because the \"notebook_saving.Notebook\"\n",
       "    // IPython event is triggered only after the cells have been serialised, which for\n",
       "    // our purposes (turning an active figure into a static one), is too late.\n",
       "    var cells = IPython.notebook.get_cells();\n",
       "    var ncells = cells.length;\n",
       "    for (var i=0; i<ncells; i++) {\n",
       "        var cell = cells[i];\n",
       "        if (cell.cell_type === 'code'){\n",
       "            for (var j=0; j<cell.output_area.outputs.length; j++) {\n",
       "                var data = cell.output_area.outputs[j];\n",
       "                if (data.data) {\n",
       "                    // IPython >= 3 moved mimebundle to data attribute of output\n",
       "                    data = data.data;\n",
       "                }\n",
       "                if (data['text/html'] == html_output) {\n",
       "                    return [cell, data, j];\n",
       "                }\n",
       "            }\n",
       "        }\n",
       "    }\n",
       "}\n",
       "\n",
       "// Register the function which deals with the matplotlib target/channel.\n",
       "// The kernel may be null if the page has been refreshed.\n",
       "if (IPython.notebook.kernel != null) {\n",
       "    IPython.notebook.kernel.comm_manager.register_target('matplotlib', mpl.mpl_figure_comm);\n",
       "}\n"
      ],
      "text/plain": [
       "<IPython.core.display.Javascript object>"
      ]
     },
     "metadata": {},
     "output_type": "display_data"
    },
    {
     "data": {
      "text/html": [
       "<img src=\"data:image/png;base64,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\" width=\"640\">"
      ],
      "text/plain": [
       "<IPython.core.display.HTML object>"
      ]
     },
     "metadata": {},
     "output_type": "display_data"
    },
    {
     "name": "stderr",
     "output_type": "stream",
     "text": [
      "C:\\Users\\mshivashan001\\Anaconda\\anaconda3\\lib\\site-packages\\numpy\\lib\\function_base.py:780: RuntimeWarning: invalid value encountered in greater_equal\n",
      "  keep = (tmp_a >= first_edge)\n",
      "C:\\Users\\mshivashan001\\Anaconda\\anaconda3\\lib\\site-packages\\numpy\\lib\\function_base.py:781: RuntimeWarning: invalid value encountered in less_equal\n",
      "  keep &= (tmp_a <= last_edge)\n"
     ]
    },
    {
     "data": {
      "text/plain": [
       "(array([7.0000e+00, 6.0000e+00, 2.0000e+01, 6.5000e+01, 9.4000e+01,\n",
       "        1.4200e+02, 2.9400e+02, 5.2600e+02, 1.2510e+03, 1.8450e+03,\n",
       "        2.5780e+03, 4.0870e+03, 6.1890e+03, 9.6500e+03, 1.3745e+04,\n",
       "        1.8366e+04, 2.0310e+04, 2.0773e+04, 1.9382e+04, 1.8784e+04,\n",
       "        1.5915e+04, 1.1254e+04, 7.5250e+03, 4.9470e+03, 2.8290e+03,\n",
       "        1.4590e+03, 7.4800e+02, 2.2800e+02, 8.4000e+01, 3.9000e+01]),\n",
       " array([33.        , 35.03333333, 37.06666667, 39.1       , 41.13333333,\n",
       "        43.16666667, 45.2       , 47.23333333, 49.26666667, 51.3       ,\n",
       "        53.33333333, 55.36666667, 57.4       , 59.43333333, 61.46666667,\n",
       "        63.5       , 65.53333333, 67.56666667, 69.6       , 71.63333333,\n",
       "        73.66666667, 75.7       , 77.73333333, 79.76666667, 81.8       ,\n",
       "        83.83333333, 85.86666667, 87.9       , 89.93333333, 91.96666667,\n",
       "        94.        ]),\n",
       " <a list of 30 Patch objects>)"
      ]
     },
     "execution_count": 44,
     "metadata": {},
     "output_type": "execute_result"
    }
   ],
   "source": [
    "plt.hist(target, 30, range=(33, 94),color='red')"
   ]
  },
  {
   "cell_type": "markdown",
   "metadata": {},
   "source": [
    "almost normal distribution so we can impute mean value for missing value in target."
   ]
  },
  {
   "cell_type": "code",
   "execution_count": 15,
   "metadata": {},
   "outputs": [],
   "source": [
    "y = target.fillna(target.mean())"
   ]
  },
  {
   "cell_type": "code",
   "execution_count": 16,
   "metadata": {},
   "outputs": [
    {
     "data": {
      "text/plain": [
       "False"
      ]
     },
     "execution_count": 16,
     "metadata": {},
     "output_type": "execute_result"
    }
   ],
   "source": [
    "y.isnull().values.any()"
   ]
  },
  {
   "cell_type": "markdown",
   "metadata": {},
   "source": [
    "# #   Data Exploration :"
   ]
  },
  {
   "cell_type": "code",
   "execution_count": 17,
   "metadata": {},
   "outputs": [
    {
     "data": {
      "text/plain": [
       "Index(['id', 'player_fifa_api_id', 'player_api_id', 'date', 'potential',\n",
       "       'preferred_foot', 'attacking_work_rate', 'defensive_work_rate',\n",
       "       'crossing', 'finishing', 'heading_accuracy', 'short_passing', 'volleys',\n",
       "       'dribbling', 'curve', 'free_kick_accuracy', 'long_passing',\n",
       "       'ball_control', 'acceleration', 'sprint_speed', 'agility', 'reactions',\n",
       "       'balance', 'shot_power', 'jumping', 'stamina', 'strength', 'long_shots',\n",
       "       'aggression', 'interceptions', 'positioning', 'vision', 'penalties',\n",
       "       'marking', 'standing_tackle', 'sliding_tackle', 'gk_diving',\n",
       "       'gk_handling', 'gk_kicking', 'gk_positioning', 'gk_reflexes'],\n",
       "      dtype='object')"
      ]
     },
     "execution_count": 17,
     "metadata": {},
     "output_type": "execute_result"
    }
   ],
   "source": [
    "df.columns"
   ]
  },
  {
   "cell_type": "code",
   "execution_count": 18,
   "metadata": {},
   "outputs": [
    {
     "name": "stdout",
     "output_type": "stream",
     "text": [
      "id--> 183978..int64\n",
      "player_fifa_api_id--> 11062..int64\n",
      "player_api_id--> 11060..int64\n",
      "date--> 197..object\n",
      "potential--> 57..float64\n",
      "preferred_foot--> 3..object\n",
      "attacking_work_rate--> 9..object\n",
      "defensive_work_rate--> 20..object\n",
      "crossing--> 96..float64\n",
      "finishing--> 98..float64\n",
      "heading_accuracy--> 97..float64\n",
      "short_passing--> 96..float64\n",
      "volleys--> 94..float64\n",
      "dribbling--> 98..float64\n",
      "curve--> 93..float64\n",
      "free_kick_accuracy--> 98..float64\n",
      "long_passing--> 96..float64\n",
      "ball_control--> 94..float64\n",
      "acceleration--> 87..float64\n",
      "sprint_speed--> 86..float64\n",
      "agility--> 82..float64\n",
      "reactions--> 79..float64\n",
      "balance--> 82..float64\n",
      "shot_power--> 97..float64\n",
      "jumping--> 80..float64\n",
      "stamina--> 85..float64\n",
      "strength--> 83..float64\n",
      "long_shots--> 97..float64\n",
      "aggression--> 92..float64\n",
      "interceptions--> 97..float64\n",
      "positioning--> 96..float64\n",
      "vision--> 98..float64\n",
      "penalties--> 95..float64\n",
      "marking--> 96..float64\n",
      "standing_tackle--> 96..float64\n",
      "sliding_tackle--> 95..float64\n",
      "gk_diving--> 94..float64\n",
      "gk_handling--> 91..float64\n",
      "gk_kicking--> 98..float64\n",
      "gk_positioning--> 95..float64\n",
      "gk_reflexes--> 93..float64\n"
     ]
    }
   ],
   "source": [
    "for col in df.columns:\n",
    "    unique_cat = len(df[col].unique())\n",
    "    print(\"{col}--> {unique_cat}..{typ}\".format(col=col, unique_cat=unique_cat, typ=df[col].dtype))"
   ]
  },
  {
   "cell_type": "markdown",
   "metadata": {},
   "source": [
    "Doing One Hot encoding on object features except date feature"
   ]
  },
  {
   "cell_type": "code",
   "execution_count": 19,
   "metadata": {},
   "outputs": [
    {
     "data": {
      "text/html": [
       "<div>\n",
       "<style scoped>\n",
       "    .dataframe tbody tr th:only-of-type {\n",
       "        vertical-align: middle;\n",
       "    }\n",
       "\n",
       "    .dataframe tbody tr th {\n",
       "        vertical-align: top;\n",
       "    }\n",
       "\n",
       "    .dataframe thead th {\n",
       "        text-align: right;\n",
       "    }\n",
       "</style>\n",
       "<table border=\"1\" class=\"dataframe\">\n",
       "  <thead>\n",
       "    <tr style=\"text-align: right;\">\n",
       "      <th></th>\n",
       "      <th>id</th>\n",
       "      <th>player_fifa_api_id</th>\n",
       "      <th>player_api_id</th>\n",
       "      <th>date</th>\n",
       "      <th>potential</th>\n",
       "      <th>crossing</th>\n",
       "      <th>finishing</th>\n",
       "      <th>heading_accuracy</th>\n",
       "      <th>short_passing</th>\n",
       "      <th>volleys</th>\n",
       "      <th>...</th>\n",
       "      <th>defensive_work_rate_9</th>\n",
       "      <th>defensive_work_rate__0</th>\n",
       "      <th>defensive_work_rate_ean</th>\n",
       "      <th>defensive_work_rate_es</th>\n",
       "      <th>defensive_work_rate_high</th>\n",
       "      <th>defensive_work_rate_low</th>\n",
       "      <th>defensive_work_rate_medium</th>\n",
       "      <th>defensive_work_rate_o</th>\n",
       "      <th>defensive_work_rate_ormal</th>\n",
       "      <th>defensive_work_rate_tocky</th>\n",
       "    </tr>\n",
       "  </thead>\n",
       "  <tbody>\n",
       "    <tr>\n",
       "      <th>0</th>\n",
       "      <td>1</td>\n",
       "      <td>218353</td>\n",
       "      <td>505942</td>\n",
       "      <td>2016-02-18 00:00:00</td>\n",
       "      <td>71.0</td>\n",
       "      <td>49.0</td>\n",
       "      <td>44.0</td>\n",
       "      <td>71.0</td>\n",
       "      <td>61.0</td>\n",
       "      <td>44.0</td>\n",
       "      <td>...</td>\n",
       "      <td>0</td>\n",
       "      <td>0</td>\n",
       "      <td>0</td>\n",
       "      <td>0</td>\n",
       "      <td>0</td>\n",
       "      <td>0</td>\n",
       "      <td>1</td>\n",
       "      <td>0</td>\n",
       "      <td>0</td>\n",
       "      <td>0</td>\n",
       "    </tr>\n",
       "    <tr>\n",
       "      <th>1</th>\n",
       "      <td>2</td>\n",
       "      <td>218353</td>\n",
       "      <td>505942</td>\n",
       "      <td>2015-11-19 00:00:00</td>\n",
       "      <td>71.0</td>\n",
       "      <td>49.0</td>\n",
       "      <td>44.0</td>\n",
       "      <td>71.0</td>\n",
       "      <td>61.0</td>\n",
       "      <td>44.0</td>\n",
       "      <td>...</td>\n",
       "      <td>0</td>\n",
       "      <td>0</td>\n",
       "      <td>0</td>\n",
       "      <td>0</td>\n",
       "      <td>0</td>\n",
       "      <td>0</td>\n",
       "      <td>1</td>\n",
       "      <td>0</td>\n",
       "      <td>0</td>\n",
       "      <td>0</td>\n",
       "    </tr>\n",
       "    <tr>\n",
       "      <th>2</th>\n",
       "      <td>3</td>\n",
       "      <td>218353</td>\n",
       "      <td>505942</td>\n",
       "      <td>2015-09-21 00:00:00</td>\n",
       "      <td>66.0</td>\n",
       "      <td>49.0</td>\n",
       "      <td>44.0</td>\n",
       "      <td>71.0</td>\n",
       "      <td>61.0</td>\n",
       "      <td>44.0</td>\n",
       "      <td>...</td>\n",
       "      <td>0</td>\n",
       "      <td>0</td>\n",
       "      <td>0</td>\n",
       "      <td>0</td>\n",
       "      <td>0</td>\n",
       "      <td>0</td>\n",
       "      <td>1</td>\n",
       "      <td>0</td>\n",
       "      <td>0</td>\n",
       "      <td>0</td>\n",
       "    </tr>\n",
       "    <tr>\n",
       "      <th>3</th>\n",
       "      <td>4</td>\n",
       "      <td>218353</td>\n",
       "      <td>505942</td>\n",
       "      <td>2015-03-20 00:00:00</td>\n",
       "      <td>65.0</td>\n",
       "      <td>48.0</td>\n",
       "      <td>43.0</td>\n",
       "      <td>70.0</td>\n",
       "      <td>60.0</td>\n",
       "      <td>43.0</td>\n",
       "      <td>...</td>\n",
       "      <td>0</td>\n",
       "      <td>0</td>\n",
       "      <td>0</td>\n",
       "      <td>0</td>\n",
       "      <td>0</td>\n",
       "      <td>0</td>\n",
       "      <td>1</td>\n",
       "      <td>0</td>\n",
       "      <td>0</td>\n",
       "      <td>0</td>\n",
       "    </tr>\n",
       "    <tr>\n",
       "      <th>4</th>\n",
       "      <td>5</td>\n",
       "      <td>218353</td>\n",
       "      <td>505942</td>\n",
       "      <td>2007-02-22 00:00:00</td>\n",
       "      <td>65.0</td>\n",
       "      <td>48.0</td>\n",
       "      <td>43.0</td>\n",
       "      <td>70.0</td>\n",
       "      <td>60.0</td>\n",
       "      <td>43.0</td>\n",
       "      <td>...</td>\n",
       "      <td>0</td>\n",
       "      <td>0</td>\n",
       "      <td>0</td>\n",
       "      <td>0</td>\n",
       "      <td>0</td>\n",
       "      <td>0</td>\n",
       "      <td>1</td>\n",
       "      <td>0</td>\n",
       "      <td>0</td>\n",
       "      <td>0</td>\n",
       "    </tr>\n",
       "  </tbody>\n",
       "</table>\n",
       "<p>5 rows × 67 columns</p>\n",
       "</div>"
      ],
      "text/plain": [
       "   id  player_fifa_api_id  player_api_id                 date  potential  \\\n",
       "0   1              218353         505942  2016-02-18 00:00:00       71.0   \n",
       "1   2              218353         505942  2015-11-19 00:00:00       71.0   \n",
       "2   3              218353         505942  2015-09-21 00:00:00       66.0   \n",
       "3   4              218353         505942  2015-03-20 00:00:00       65.0   \n",
       "4   5              218353         505942  2007-02-22 00:00:00       65.0   \n",
       "\n",
       "   crossing  finishing  heading_accuracy  short_passing  volleys  \\\n",
       "0      49.0       44.0              71.0           61.0     44.0   \n",
       "1      49.0       44.0              71.0           61.0     44.0   \n",
       "2      49.0       44.0              71.0           61.0     44.0   \n",
       "3      48.0       43.0              70.0           60.0     43.0   \n",
       "4      48.0       43.0              70.0           60.0     43.0   \n",
       "\n",
       "             ...              defensive_work_rate_9  defensive_work_rate__0  \\\n",
       "0            ...                                  0                       0   \n",
       "1            ...                                  0                       0   \n",
       "2            ...                                  0                       0   \n",
       "3            ...                                  0                       0   \n",
       "4            ...                                  0                       0   \n",
       "\n",
       "   defensive_work_rate_ean  defensive_work_rate_es  defensive_work_rate_high  \\\n",
       "0                        0                       0                         0   \n",
       "1                        0                       0                         0   \n",
       "2                        0                       0                         0   \n",
       "3                        0                       0                         0   \n",
       "4                        0                       0                         0   \n",
       "\n",
       "   defensive_work_rate_low  defensive_work_rate_medium  defensive_work_rate_o  \\\n",
       "0                        0                           1                      0   \n",
       "1                        0                           1                      0   \n",
       "2                        0                           1                      0   \n",
       "3                        0                           1                      0   \n",
       "4                        0                           1                      0   \n",
       "\n",
       "   defensive_work_rate_ormal  defensive_work_rate_tocky  \n",
       "0                          0                          0  \n",
       "1                          0                          0  \n",
       "2                          0                          0  \n",
       "3                          0                          0  \n",
       "4                          0                          0  \n",
       "\n",
       "[5 rows x 67 columns]"
      ]
     },
     "execution_count": 19,
     "metadata": {},
     "output_type": "execute_result"
    }
   ],
   "source": [
    "dummy_df = pd.get_dummies(df, columns=['preferred_foot', 'attacking_work_rate', 'defensive_work_rate'])\n",
    "dummy_df.head()"
   ]
  },
  {
   "cell_type": "code",
   "execution_count": 20,
   "metadata": {},
   "outputs": [],
   "source": [
    "X = dummy_df.drop(['id', 'date'], axis=1)"
   ]
  },
  {
   "cell_type": "markdown",
   "metadata": {},
   "source": [
    "### Feature selection :"
   ]
  },
  {
   "cell_type": "markdown",
   "metadata": {},
   "source": [
    "As tree model doesn't gets affected by missing values present in data set. but feature selection by SelectFromModel can not be done on datasets that carries null value. Therefore, we should also perform imputation on dataset"
   ]
  },
  {
   "cell_type": "code",
   "execution_count": 21,
   "metadata": {},
   "outputs": [],
   "source": [
    "X_train, X_test, y_train, y_test = train_test_split(X, y, test_size=0.25, random_state=42)"
   ]
  },
  {
   "cell_type": "code",
   "execution_count": 22,
   "metadata": {},
   "outputs": [],
   "source": [
    "#imputing null value of each column with the mean of that column\n",
    "imput = Imputer()\n",
    "X_train = imput.fit_transform(X_train)\n",
    "X_test = imput.fit_transform(X_test)"
   ]
  },
  {
   "cell_type": "code",
   "execution_count": 23,
   "metadata": {},
   "outputs": [
    {
     "name": "stdout",
     "output_type": "stream",
     "text": [
      "[0.01714286 0.02       0.10714286 0.02       0.04714286 0.03571429\n",
      " 0.03285714 0.         0.04       0.         0.         0.00714286\n",
      " 0.04714286 0.01       0.01571429 0.00142857 0.18571429 0.\n",
      " 0.01428571 0.00571429 0.00857143 0.03142857 0.00571429 0.00714286\n",
      " 0.01857143 0.01857143 0.00571429 0.         0.04285714 0.04571429\n",
      " 0.01       0.04571429 0.02571429 0.02428572 0.06       0.04285714\n",
      " 0.         0.         0.         0.         0.         0.\n",
      " 0.         0.         0.         0.         0.         0.\n",
      " 0.         0.         0.         0.         0.         0.\n",
      " 0.         0.         0.         0.         0.         0.\n",
      " 0.         0.         0.         0.         0.        ]\n"
     ]
    }
   ],
   "source": [
    "#finding feature_importance for feature selection. from it we'll be able to decide threshold value\n",
    "model = XGBRegressor()\n",
    "model.fit(X_train, y_train)\n",
    "print(model.feature_importances_)"
   ]
  },
  {
   "cell_type": "code",
   "execution_count": 24,
   "metadata": {},
   "outputs": [],
   "source": [
    "selection = SelectFromModel(model, threshold=0.01, prefit=True)\n",
    "\n",
    "select_X_train = selection.transform(X_train)\n",
    "select_X_test = selection.transform(X_test)"
   ]
  },
  {
   "cell_type": "code",
   "execution_count": 25,
   "metadata": {},
   "outputs": [
    {
     "data": {
      "text/plain": [
       "(137983, 24)"
      ]
     },
     "execution_count": 25,
     "metadata": {},
     "output_type": "execute_result"
    }
   ],
   "source": [
    "select_X_train.shape"
   ]
  },
  {
   "cell_type": "markdown",
   "metadata": {},
   "source": [
    "### Training different models :"
   ]
  },
  {
   "cell_type": "markdown",
   "metadata": {},
   "source": [
    "#### 1. Linear Regression"
   ]
  },
  {
   "cell_type": "code",
   "execution_count": 26,
   "metadata": {},
   "outputs": [],
   "source": [
    "pipe = make_pipeline(StandardScaler(),             #preprocessing(standard scalling)\n",
    "                     LinearRegression())           #estimator(linear regression)\n",
    "\n",
    "cv = ShuffleSplit(random_state=0)   #defining type of cross_validation(shuffle spliting)\n",
    "\n",
    "param_grid = {'linearregression__n_jobs': [-1]}     #parameters for model tunning\n",
    "\n",
    "grid = GridSearchCV(pipe, param_grid=param_grid, cv=cv)"
   ]
  },
  {
   "cell_type": "code",
   "execution_count": 27,
   "metadata": {},
   "outputs": [
    {
     "data": {
      "text/plain": [
       "GridSearchCV(cv=ShuffleSplit(n_splits=10, random_state=0, test_size='default',\n",
       "       train_size=None),\n",
       "       error_score='raise',\n",
       "       estimator=Pipeline(memory=None,\n",
       "     steps=[('standardscaler', StandardScaler(copy=True, with_mean=True, with_std=True)), ('linearregression', LinearRegression(copy_X=True, fit_intercept=True, n_jobs=1, normalize=False))]),\n",
       "       fit_params=None, iid=True, n_jobs=1,\n",
       "       param_grid={'linearregression__n_jobs': [-1]},\n",
       "       pre_dispatch='2*n_jobs', refit=True, return_train_score='warn',\n",
       "       scoring=None, verbose=0)"
      ]
     },
     "execution_count": 27,
     "metadata": {},
     "output_type": "execute_result"
    }
   ],
   "source": [
    "grid.fit(select_X_train, y_train)  "
   ]
  },
  {
   "cell_type": "code",
   "execution_count": 28,
   "metadata": {},
   "outputs": [
    {
     "data": {
      "text/plain": [
       "{'linearregression__n_jobs': -1}"
      ]
     },
     "execution_count": 28,
     "metadata": {},
     "output_type": "execute_result"
    }
   ],
   "source": [
    "grid.best_params_"
   ]
  },
  {
   "cell_type": "code",
   "execution_count": 29,
   "metadata": {},
   "outputs": [],
   "source": [
    "lin_reg = pickle.dumps(grid)"
   ]
  },
  {
   "cell_type": "markdown",
   "metadata": {},
   "source": [
    "#### Decision Tree"
   ]
  },
  {
   "cell_type": "code",
   "execution_count": 30,
   "metadata": {},
   "outputs": [],
   "source": [
    "pipe = make_pipeline(StandardScaler(),                  #preprocessing\n",
    "                     DecisionTreeRegressor(criterion='mse', random_state=0))          #estimator\n",
    "\n",
    "cv = ShuffleSplit(n_splits=10, random_state=42)        #cross validation\n",
    "\n",
    "param_grid = {'decisiontreeregressor__max_depth': [3, 5, 7, 9, 13]}\n",
    "\n",
    "grid = GridSearchCV(pipe, param_grid=param_grid, cv=cv)"
   ]
  },
  {
   "cell_type": "code",
   "execution_count": 31,
   "metadata": {},
   "outputs": [
    {
     "data": {
      "text/plain": [
       "GridSearchCV(cv=ShuffleSplit(n_splits=10, random_state=42, test_size='default',\n",
       "       train_size=None),\n",
       "       error_score='raise',\n",
       "       estimator=Pipeline(memory=None,\n",
       "     steps=[('standardscaler', StandardScaler(copy=True, with_mean=True, with_std=True)), ('decisiontreeregressor', DecisionTreeRegressor(criterion='mse', max_depth=None, max_features=None,\n",
       "           max_leaf_nodes=None, min_impurity_decrease=0.0,\n",
       "           min_impurity_split=None, min_samples_leaf=1,\n",
       "           min_samples_split=2, min_weight_fraction_leaf=0.0,\n",
       "           presort=False, random_state=0, splitter='best'))]),\n",
       "       fit_params=None, iid=True, n_jobs=1,\n",
       "       param_grid={'decisiontreeregressor__max_depth': [3, 5, 7, 9, 13]},\n",
       "       pre_dispatch='2*n_jobs', refit=True, return_train_score='warn',\n",
       "       scoring=None, verbose=0)"
      ]
     },
     "execution_count": 31,
     "metadata": {},
     "output_type": "execute_result"
    }
   ],
   "source": [
    "grid.fit(select_X_train, y_train)  "
   ]
  },
  {
   "cell_type": "code",
   "execution_count": 32,
   "metadata": {},
   "outputs": [
    {
     "data": {
      "text/plain": [
       "{'decisiontreeregressor__max_depth': 13}"
      ]
     },
     "execution_count": 32,
     "metadata": {},
     "output_type": "execute_result"
    }
   ],
   "source": [
    "grid.best_params_"
   ]
  },
  {
   "cell_type": "code",
   "execution_count": 33,
   "metadata": {},
   "outputs": [],
   "source": [
    "Dectree_reg = pickle.dumps(grid)"
   ]
  },
  {
   "cell_type": "markdown",
   "metadata": {},
   "source": [
    "#### 3. Random Forest"
   ]
  },
  {
   "cell_type": "code",
   "execution_count": 34,
   "metadata": {},
   "outputs": [],
   "source": [
    "pipe = make_pipeline(StandardScaler(),\n",
    "                     RandomForestRegressor(n_estimators=500, random_state=123))\n",
    "\n",
    "cv = ShuffleSplit(test_size=0.2, random_state=0)\n",
    "\n",
    "param_grid = {'randomforestregressor__max_features':['sqrt', 'log2', 10],\n",
    "              'randomforestregressor__max_depth':[9, 11, 13]}                 \n",
    "\n",
    "grid = GridSearchCV(pipe, param_grid=param_grid, cv=cv)"
   ]
  },
  {
   "cell_type": "code",
   "execution_count": 35,
   "metadata": {},
   "outputs": [
    {
     "data": {
      "text/plain": [
       "GridSearchCV(cv=ShuffleSplit(n_splits=10, random_state=0, test_size=0.2, train_size=None),\n",
       "       error_score='raise',\n",
       "       estimator=Pipeline(memory=None,\n",
       "     steps=[('standardscaler', StandardScaler(copy=True, with_mean=True, with_std=True)), ('randomforestregressor', RandomForestRegressor(bootstrap=True, criterion='mse', max_depth=None,\n",
       "           max_features='auto', max_leaf_nodes=None,\n",
       "           min_impurity_decr...imators=500, n_jobs=1,\n",
       "           oob_score=False, random_state=123, verbose=0, warm_start=False))]),\n",
       "       fit_params=None, iid=True, n_jobs=1,\n",
       "       param_grid={'randomforestregressor__max_features': ['sqrt', 'log2', 10], 'randomforestregressor__max_depth': [9, 11, 13]},\n",
       "       pre_dispatch='2*n_jobs', refit=True, return_train_score='warn',\n",
       "       scoring=None, verbose=0)"
      ]
     },
     "execution_count": 35,
     "metadata": {},
     "output_type": "execute_result"
    }
   ],
   "source": [
    "grid.fit(select_X_train, y_train)   "
   ]
  },
  {
   "cell_type": "code",
   "execution_count": 36,
   "metadata": {},
   "outputs": [
    {
     "data": {
      "text/plain": [
       "{'randomforestregressor__max_depth': 13,\n",
       " 'randomforestregressor__max_features': 10}"
      ]
     },
     "execution_count": 36,
     "metadata": {},
     "output_type": "execute_result"
    }
   ],
   "source": [
    "grid.best_params_"
   ]
  },
  {
   "cell_type": "code",
   "execution_count": 37,
   "metadata": {},
   "outputs": [],
   "source": [
    "Randfor_reg = pickle.dumps(grid)"
   ]
  },
  {
   "cell_type": "markdown",
   "metadata": {},
   "source": [
    "#### 4. Xgboost regressor "
   ]
  },
  {
   "cell_type": "code",
   "execution_count": 38,
   "metadata": {},
   "outputs": [],
   "source": [
    "pipe = make_pipeline(StandardScaler(),\n",
    "                     XGBRegressor(n_estimators= 500, random_state=42))\n",
    "\n",
    "cv = ShuffleSplit(n_splits=10, random_state=0)\n",
    "\n",
    "param_grid = {'xgbregressor__max_depth': [5, 7],\n",
    "              'xgbregressor__learning_rate': [0.1, 0.3]}\n",
    "\n",
    "grid = GridSearchCV(pipe, param_grid=param_grid, cv=cv, n_jobs= -1)"
   ]
  },
  {
   "cell_type": "code",
   "execution_count": 39,
   "metadata": {},
   "outputs": [
    {
     "data": {
      "text/plain": [
       "GridSearchCV(cv=ShuffleSplit(n_splits=10, random_state=0, test_size='default',\n",
       "       train_size=None),\n",
       "       error_score='raise',\n",
       "       estimator=Pipeline(memory=None,\n",
       "     steps=[('standardscaler', StandardScaler(copy=True, with_mean=True, with_std=True)), ('xgbregressor', XGBRegressor(base_score=0.5, booster='gbtree', colsample_bylevel=1,\n",
       "       colsample_bytree=1, gamma=0, learning_rate=0.1, max_delta_step=0,\n",
       "       max_depth=3, ...       reg_alpha=0, reg_lambda=1, scale_pos_weight=1, seed=None,\n",
       "       silent=True, subsample=1))]),\n",
       "       fit_params=None, iid=True, n_jobs=-1,\n",
       "       param_grid={'xgbregressor__max_depth': [5, 7], 'xgbregressor__learning_rate': [0.1, 0.3]},\n",
       "       pre_dispatch='2*n_jobs', refit=True, return_train_score='warn',\n",
       "       scoring=None, verbose=0)"
      ]
     },
     "execution_count": 39,
     "metadata": {},
     "output_type": "execute_result"
    }
   ],
   "source": [
    "grid.fit(select_X_train, y_train)"
   ]
  },
  {
   "cell_type": "code",
   "execution_count": 40,
   "metadata": {},
   "outputs": [
    {
     "data": {
      "text/plain": [
       "{'xgbregressor__learning_rate': 0.3, 'xgbregressor__max_depth': 7}"
      ]
     },
     "execution_count": 40,
     "metadata": {},
     "output_type": "execute_result"
    }
   ],
   "source": [
    "grid.best_params_"
   ]
  },
  {
   "cell_type": "code",
   "execution_count": 41,
   "metadata": {},
   "outputs": [],
   "source": [
    "xgbreg = pickle.dumps(grid)"
   ]
  },
  {
   "cell_type": "markdown",
   "metadata": {},
   "source": [
    "### Comparision between models"
   ]
  },
  {
   "cell_type": "code",
   "execution_count": 42,
   "metadata": {},
   "outputs": [],
   "source": [
    "lin_reg = pickle.loads(lin_reg)\n",
    "Dectree_reg = pickle.loads(Dectree_reg)\n",
    "Randfor_reg = pickle.loads(Randfor_reg)\n",
    "xgbreg = pickle.loads(xgbreg)"
   ]
  },
  {
   "cell_type": "code",
   "execution_count": 43,
   "metadata": {},
   "outputs": [
    {
     "name": "stdout",
     "output_type": "stream",
     "text": [
      "Linear Regressor accuracy is 0.8547439877398585\n",
      "DecisionTree Regressor accuracy is 0.9300656646020649\n",
      "RandomForest regressor accuracy is 0.9642395895691055\n",
      "XGBoost regressor accuracy is 0.9824157032610178\n"
     ]
    }
   ],
   "source": [
    "print(\"\"\"Linear Regressor accuracy is {lin}\n",
    "DecisionTree Regressor accuracy is {Dec}\n",
    "RandomForest regressor accuracy is {ran}\n",
    "XGBoost regressor accuracy is {xgb}\"\"\".format(lin=lin_reg.score(select_X_test, y_test),\n",
    "                                                       Dec=Dectree_reg.score(select_X_test, y_test),\n",
    "                                                       ran=Randfor_reg.score(select_X_test, y_test),\n",
    "                                                       xgb=xgbreg.score(select_X_test, y_test)))"
   ]
  },
  {
   "cell_type": "markdown",
   "metadata": {},
   "source": [
    "By accuracy comparision performed above we can say hear that XGBoost regressor gives better result than any other model. and it can predict the target function with approx 98% accuracy."
   ]
  },
  {
   "cell_type": "code",
   "execution_count": null,
   "metadata": {},
   "outputs": [],
   "source": []
  }
 ],
 "metadata": {
  "kernelspec": {
   "display_name": "Python 3",
   "language": "python",
   "name": "python3"
  }
 },
 "nbformat": 4,
 "nbformat_minor": 2
}
